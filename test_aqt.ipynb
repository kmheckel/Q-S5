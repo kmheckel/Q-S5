{
 "cells": [
  {
   "cell_type": "markdown",
   "metadata": {},
   "source": [
    "In this notebook, we test the `aqt` library to make sure that we get correctly quantized dot products and hadamard products. The main caveat is that we want to have more control over the calibration axes that are used for the quantization, which is why we're using our own fork of the `aqt` library. See docstrings in the `quant_dot_for_hadamard` and `quant_dot_for_dot` functions below."
   ]
  },
  {
   "cell_type": "code",
   "execution_count": 1,
   "metadata": {},
   "outputs": [],
   "source": [
    "from aqt.jax.v2.aqt_dot_general import CalibrationMode\n",
    "import aqt.jax.v2.config as aqt_config\n",
    "import jax\n",
    "import jax.numpy as jnp\n",
    "from functools import partial\n",
    "import matplotlib.pyplot as plt"
   ]
  },
  {
   "cell_type": "code",
   "execution_count": 2,
   "metadata": {},
   "outputs": [],
   "source": [
    "# NOTE: we could also be using CalibrationMode.NON_BATCH_AXES for the dot product,\n",
    "# which would allow us to add batch dimensions directly into the dot product.\n",
    "# The hadamard product does not support this, however, so we will add the batch\n",
    "# dimensions with vmap instead, so we will use CalibrationMode.ALL_AXES for all.\n",
    "\n",
    "# use all axes for calibration -> add batch with vmap\n",
    "fully_quantized = partial(\n",
    "    aqt_config.fully_quantized, \n",
    "    calibration_mode=CalibrationMode.ALL_AXES, use_stochastic_rounding=False,\n",
    ")\n",
    "\n",
    "def quant_dot_for_hadamard(dot_general):\n",
    "    \"\"\"Generate a jitted general_dot function to be used for hadamard products.\n",
    "    Note that this function does not support batch dimensions. All dimensions will\n",
    "    be used for calibration in the quantization.\"\"\"\n",
    "    def _dot(a, b):\n",
    "        contr_dims = ((), ())  # hadamard has no contracting dims\n",
    "        batch_dims = (tuple(range(a.ndim)), tuple(range(b.ndim)))  # use all dims as batch dims\n",
    "        return dot_general(a, b, (contr_dims, batch_dims))\n",
    "    return jax.jit(_dot)\n",
    "\n",
    "def quant_dot_for_dot(general_dot):\n",
    "    \"\"\"Generate a jitted general_dot function to be used for dot products.\n",
    "    Will contract on the last dimension of a, and the first dimension of b.\n",
    "    This means that there are no batch dimensions, and all dimensions will be used\n",
    "    for calibration in the quantization.\"\"\"\n",
    "    def _dot(a, b):\n",
    "        # contr_dims = ((a.ndim-1,), (1,))  # batched version (not used)\n",
    "        # batch_dims = ((0,), (0,))  # batched version (not used)\n",
    "        contr_dims = ((a.ndim-1,), (0,))\n",
    "        batch_dims = ((), ())\n",
    "        return general_dot(a, b, (contr_dims, batch_dims))\n",
    "    return jax.jit(_dot)"
   ]
  },
  {
   "cell_type": "code",
   "execution_count": 3,
   "metadata": {},
   "outputs": [],
   "source": [
    "int8_config = fully_quantized(fwd_bits=8, bwd_bits=8)\n",
    "int4_config = fully_quantized(fwd_bits=4, bwd_bits=4)\n",
    "int2_config = fully_quantized(fwd_bits=2, bwd_bits=2)\n",
    "int1_config = fully_quantized(fwd_bits=1, bwd_bits=1)\n",
    "\n",
    "key = jax.random.PRNGKey(0)"
   ]
  },
  {
   "cell_type": "markdown",
   "metadata": {},
   "source": [
    "Hadamard"
   ]
  },
  {
   "cell_type": "code",
   "execution_count": 4,
   "metadata": {},
   "outputs": [
    {
     "name": "stdout",
     "output_type": "stream",
     "text": [
      "lhs_qt.scale=[array([2.5344248], dtype=float32)]\n",
      "rhs_qt.scale=[array([3.2936618], dtype=float32)]\n",
      "out.unique.shape = 2 (cutoff=300)\n",
      "# unique vals: 2 (expected: 2)\n"
     ]
    }
   ],
   "source": [
    "qd = quant_dot_for_hadamard(int1_config)\n",
    "a, b = jnp.split(jax.random.normal(key, (200,)), 2)\n",
    "res = qd(a, b)\n",
    "# print(res)\n",
    "# print(jnp.unique(res))\n",
    "print(f'# unique vals: {jnp.unique(res).shape[0]} (expected: 2)')"
   ]
  },
  {
   "cell_type": "code",
   "execution_count": 5,
   "metadata": {},
   "outputs": [
    {
     "name": "stdout",
     "output_type": "stream",
     "text": [
      "lhs_qt.scale=[array([2.1847825], dtype=float32)]\n",
      "rhs_qt.scale=[array([2.4518642], dtype=float32)]\n",
      "out.unique.shape = 3 (cutoff=300)\n",
      "# unique vals: 3 (expected: 4)\n"
     ]
    }
   ],
   "source": [
    "qd = quant_dot_for_hadamard(int2_config)\n",
    "a, b = jnp.split(jax.random.normal(key, (2000,)), 2)\n",
    "res = qd(a, b)\n",
    "# print(res)\n",
    "# print(jnp.unique(res))\n",
    "print(f'# unique vals: {jnp.unique(res).shape[0]} (expected: 4)')"
   ]
  },
  {
   "cell_type": "code",
   "execution_count": 6,
   "metadata": {},
   "outputs": [
    {
     "name": "stdout",
     "output_type": "stream",
     "text": [
      "lhs_qt.scale=[array([0.26414272], dtype=float32)]\n",
      "rhs_qt.scale=[array([0.31502974], dtype=float32)]\n",
      "out.unique.shape = 24 (cutoff=300)\n",
      "# unique vals: 24 (expected: 16)\n"
     ]
    }
   ],
   "source": [
    "qd = quant_dot_for_hadamard(int4_config)\n",
    "a, b = jnp.split(jax.random.normal(key, (100,)), 2)\n",
    "res = qd(a, b)\n",
    "# print(res)\n",
    "# print(jnp.unique(res))\n",
    "print(f'# unique vals: {jnp.unique(res).shape[0]} (expected: 16)')\n",
    "# print(res)"
   ]
  },
  {
   "cell_type": "code",
   "execution_count": 7,
   "metadata": {},
   "outputs": [
    {
     "data": {
      "image/png": "[encoded data removed]",
      "text/plain": [
       "<Figure size 1000x200 with 1 Axes>"
      ]
     },
     "metadata": {},
     "output_type": "display_data"
    }
   ],
   "source": [
    "fig, ax = plt.subplots(figsize=(10, 2))\n",
    "ax.hist(res, bins=32);"
   ]
  },
  {
   "cell_type": "code",
   "execution_count": 8,
   "metadata": {},
   "outputs": [
    {
     "name": "stdout",
     "output_type": "stream",
     "text": [
      "lhs_qt.scale=[array([0.02802002], dtype=float32)]\n",
      "rhs_qt.scale=[array([0.02845524], dtype=float32)]\n",
      "out.unique.shape = 300 (cutoff=300)\n",
      "# unique vals: 1945 (expected: 256)\n"
     ]
    }
   ],
   "source": [
    "qd = quant_dot_for_hadamard(int8_config)\n",
    "a, b = jnp.split(jax.random.normal(key, (10_000,)), 2)\n",
    "res = qd(a, b)\n",
    "# print(res)\n",
    "# print(jnp.unique(res))\n",
    "print(f'# unique vals: {jnp.unique(res).shape[0]} (expected: 256)')"
   ]
  },
  {
   "cell_type": "markdown",
   "metadata": {},
   "source": [
    "vmap'ed hadamard"
   ]
  },
  {
   "cell_type": "code",
   "execution_count": 9,
   "metadata": {},
   "outputs": [
    {
     "name": "stdout",
     "output_type": "stream",
     "text": [
      "(2, 100) (2, 100)\n",
      "lhs_qt.scale=[array([2.0016735], dtype=float32)]\n",
      "lhs_qt.scale=[array([1.3855627], dtype=float32)]\n",
      "rhs_qt.scale=[array([1.6468699], dtype=float32)]\n",
      "rhs_qt.scale=[array([1.6561387], dtype=float32)]\n",
      "out.unique.shape = 3 (cutoff=300)\n",
      "out.unique.shape = 3 (cutoff=300)\n",
      "# unique vals: 5 (expected: 4)\n"
     ]
    }
   ],
   "source": [
    "qd = jax.vmap(quant_dot_for_hadamard(int2_config_had))\n",
    "a, b = jnp.split(jax.random.normal(key, (4, 100,)), 2)\n",
    "print(a.shape, b.shape)\n",
    "res = qd(a, b)\n",
    "# print(res)\n",
    "# print(jnp.unique(res))\n",
    "print(f'# unique vals: {jnp.unique(res).shape[0]} (expected: 4)')"
   ]
  },
  {
   "cell_type": "markdown",
   "metadata": {},
   "source": [
    "Dot"
   ]
  },
  {
   "cell_type": "code",
   "execution_count": 10,
   "metadata": {},
   "outputs": [
    {
     "name": "stdout",
     "output_type": "stream",
     "text": [
      "(2, 20) (20, 2)\n",
      "lhs_qt.scale=[array([[2.2648451]], dtype=float32)]\n",
      "rhs_qt.scale=[array([[2.0410872]], dtype=float32)]\n",
      "out.unique.shape = 4 (cutoff=300)\n",
      "all multiples: True, max coeff: 4.0\n"
     ]
    }
   ],
   "source": [
    "qd = quant_dot_for_dot(int1_config)\n",
    "a, b = jnp.split(jax.random.normal(key, (4, 20)), 2)\n",
    "b = b.T\n",
    "print(a.shape, b.shape)\n",
    "res = qd(a, b)\n",
    "# print(res)\n",
    "\n",
    "x = jnp.unique(res)\n",
    "x = x / abs(x[x != 0]).min()\n",
    "all_multiples = jnp.allclose(jnp.mod(x, 1), 0, atol=1e-5)\n",
    "max_coeff = jnp.max(jnp.abs(x)).item()\n",
    "print(f'all multiples: {all_multiples}, max coeff: {max_coeff}')\n",
    "# print(jnp.unique(res))\n",
    "# print(f'# unique vals: {jnp.unique(res).shape[0]} (expected: 2)')"
   ]
  },
  {
   "cell_type": "code",
   "execution_count": 11,
   "metadata": {},
   "outputs": [
    {
     "name": "stdout",
     "output_type": "stream",
     "text": [
      "(2, 20) (20, 2)\n",
      "lhs_qt.scale=[array([[1.5098968]], dtype=float32)]\n",
      "rhs_qt.scale=[array([[1.3607248]], dtype=float32)]\n",
      "out.unique.shape = 3 (cutoff=300)\n",
      "all multiples: True, max coeff: 2.0\n"
     ]
    }
   ],
   "source": [
    "qd = quant_dot_for_dot(int2_config)\n",
    "a, b = jnp.split(jax.random.normal(key, (4, 20)), 2)\n",
    "b = b.T\n",
    "print(a.shape, b.shape)\n",
    "res = qd(a, b)\n",
    "# print(res)\n",
    "\n",
    "x = jnp.unique(res)\n",
    "x = x / abs(x[x != 0]).min()\n",
    "all_multiples = jnp.allclose(jnp.mod(x, 1), 0, atol=1e-5)\n",
    "max_coeff = jnp.max(jnp.abs(x)).item()\n",
    "print(f'all multiples: {all_multiples}, max coeff: {max_coeff}')\n",
    "# print(jnp.unique(res))\n",
    "# print(f'# unique vals: {jnp.unique(res).shape[0]} (expected: 2)')"
   ]
  },
  {
   "cell_type": "code",
   "execution_count": 12,
   "metadata": {},
   "outputs": [
    {
     "name": "stdout",
     "output_type": "stream",
     "text": [
      "(2, 20) (20, 2)\n",
      "lhs_qt.scale=[array([[0.30197936]], dtype=float32)]\n",
      "rhs_qt.scale=[array([[0.27214497]], dtype=float32)]\n",
      "out.unique.shape = 4 (cutoff=300)\n",
      "all multiples: False, max coeff: 5.111111164093018\n"
     ]
    }
   ],
   "source": [
    "qd = quant_dot_for_dot(int4_config)\n",
    "a, b = jnp.split(jax.random.normal(key, (4, 20)), 2)\n",
    "b = b.T\n",
    "print(a.shape, b.shape)\n",
    "res = qd(a, b)\n",
    "# print(res)\n",
    "\n",
    "x = jnp.unique(res)\n",
    "x = x / abs(x[x != 0]).min()\n",
    "all_multiples = jnp.allclose(jnp.mod(x, 1), 0, atol=1e-5)\n",
    "max_coeff = jnp.max(jnp.abs(x)).item()\n",
    "print(f'all multiples: {all_multiples}, max coeff: {max_coeff}')\n",
    "# print(jnp.unique(res))\n",
    "# print(f'# unique vals: {jnp.unique(res).shape[0]} (expected: 2)')"
   ]
  },
  {
   "cell_type": "code",
   "execution_count": 13,
   "metadata": {},
   "outputs": [
    {
     "name": "stdout",
     "output_type": "stream",
     "text": [
      "(2, 20) (20, 2)\n",
      "lhs_qt.scale=[array([[0.01776349]], dtype=float32)]\n",
      "rhs_qt.scale=[array([[0.01600853]], dtype=float32)]\n",
      "out.unique.shape = 4 (cutoff=300)\n",
      "all multiples: False, max coeff: 6.111774444580078\n"
     ]
    }
   ],
   "source": [
    "qd = quant_dot_for_dot(int8_config)\n",
    "a, b = jnp.split(jax.random.normal(key, (4, 20)), 2)\n",
    "b = b.T\n",
    "print(a.shape, b.shape)\n",
    "res = qd(a, b)\n",
    "# print(res)\n",
    "\n",
    "x = jnp.unique(res)\n",
    "x = x / abs(x[x != 0]).min()\n",
    "all_multiples = jnp.allclose(jnp.mod(x, 1), 0, atol=1e-5)\n",
    "max_coeff = jnp.max(jnp.abs(x)).item()\n",
    "print(f'all multiples: {all_multiples}, max coeff: {max_coeff}')\n",
    "# print(jnp.unique(res))\n",
    "# print(f'# unique vals: {jnp.unique(res).shape[0]} (expected: 2)')"
   ]
  }
 ],
 "metadata": {
  "kernelspec": {
   "display_name": "venv",
   "language": "python",
   "name": "python3"
  },
  "language_info": {
   "codemirror_mode": {
    "name": "ipython",
    "version": 3
   },
   "file_extension": ".py",
   "mimetype": "text/x-python",
   "name": "python",
   "nbconvert_exporter": "python",
   "pygments_lexer": "ipython3",
   "version": "3.10.10"
  }
 },
 "nbformat": 4,
 "nbformat_minor": 2
}
