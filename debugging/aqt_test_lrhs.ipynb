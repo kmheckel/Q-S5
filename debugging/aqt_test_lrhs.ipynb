{
 "cells": [
  {
   "cell_type": "code",
   "execution_count": 25,
   "metadata": {},
   "outputs": [],
   "source": [
    "from aqt.jax.v2.aqt_dot_general import CalibrationMode\n",
    "from functools import partial\n",
    "import aqt.jax.v2.config as aqt_config\n",
    "from aqt.jax.v2 import aqt_quantizer\n",
    "from aqt.jax.v2 import calibration\n",
    "from aqt.jax.v2 import utils as aqt_utils\n",
    "from aqt.jax.v2.numerics import int_numerics\n",
    "import jax.numpy as np\n",
    "import jax"
   ]
  },
  {
   "cell_type": "code",
   "execution_count": 77,
   "metadata": {},
   "outputs": [],
   "source": [
    "fully_quantized = partial(\n",
    "    aqt_config.fully_quantized,\n",
    "    calibration_mode=CalibrationMode.ALL_AXES, use_stochastic_rounding=False,\n",
    ")\n",
    "\n",
    "def q_dot_maybe(fwd=None, bwd=None):\n",
    "    if fwd is None and bwd is None:\n",
    "        return np.dot\n",
    "    else:\n",
    "        return quant_dot_for_dot(fully_quantized(fwd_bits=fwd, bwd_bits=bwd))\n",
    "\n",
    "def quant_dot_for_dot(general_dot):\n",
    "    def _dot(a, b):\n",
    "        contr_dims = ((a.ndim-1,), (0,))\n",
    "        batch_dims = ((), ())\n",
    "        return general_dot(a, b, (contr_dims, batch_dims))\n",
    "    return jax.jit(_dot)\n",
    "\n",
    "def make_quantizer(bits=8):\n",
    "    return aqt_quantizer.Quantizer(\n",
    "        numerics=int_numerics.IntNumerics(\n",
    "            bits=bits,\n",
    "            preserve_zero=True,\n",
    "            # preserve_max_val=True,\n",
    "            preserve_max_val=False,\n",
    "            clip=True,\n",
    "            clip_gradient=True,\n",
    "            round=True,\n",
    "            noise_fn=None,\n",
    "        ),\n",
    "        # calib_shared_axes=-1,\n",
    "        calib_shared_axes=None,\n",
    "        scale_stop_grad=True,\n",
    "        calibration=calibration.AbsMaxCalibration,\n",
    "        po2_scale=False,\n",
    "        context=aqt_utils.Context(key=jax.random.PRNGKey(0), train_step=None)\n",
    "    )"
   ]
  },
  {
   "cell_type": "code",
   "execution_count": 78,
   "metadata": {},
   "outputs": [
    {
     "name": "stdout",
     "output_type": "stream",
     "text": [
      "a [[-0.5338914   0.8417911   0.8115571   0.05308708]\n",
      " [ 0.72478807 -0.5391156  -0.21932149  0.5509203 ]\n",
      " [ 0.16972555  1.1971722  -1.0609422   0.28213271]\n",
      " [-1.0543169   1.0187539  -0.42167255 -2.5889838 ]]\n",
      "b [[ 0.3031899  -0.7655693   1.3062729  -0.7149365 ]\n",
      " [-0.18686387 -1.8082983  -0.46174228  0.17252915]\n",
      " [ 0.43107846  0.2948003  -0.8942256  -0.30150604]\n",
      " [ 0.27695706 -1.4905776  -0.5799751   0.9487235 ]]\n"
     ]
    }
   ],
   "source": [
    "key = jax.random.PRNGKey(0)\n",
    "H = 4\n",
    "a, b = np.split(jax.random.normal(key, (2*H, H)), 2)\n",
    "print('a', a)\n",
    "print('b', b)"
   ]
  },
  {
   "cell_type": "code",
   "execution_count": 93,
   "metadata": {},
   "outputs": [
    {
     "data": {
      "text/plain": [
       "Array([[0.9333334, 0.       ],\n",
       "       [0.       , 0.9333334]], dtype=float32)"
      ]
     },
     "execution_count": 93,
     "metadata": {},
     "output_type": "execute_result"
    }
   ],
   "source": [
    "lhs, rhs = 4, 2\n",
    "qd = q_dot_maybe(fwd=(lhs, None), bwd=8)\n",
    "qd(np.eye(2), np.eye(2))"
   ]
  },
  {
   "cell_type": "code",
   "execution_count": 94,
   "metadata": {},
   "outputs": [
    {
     "data": {
      "text/plain": [
       "Array([[0.9333334, 0.       ],\n",
       "       [0.       , 0.9333334]], dtype=float32)"
      ]
     },
     "execution_count": 94,
     "metadata": {},
     "output_type": "execute_result"
    }
   ],
   "source": [
    "q = make_quantizer(bits=4)\n",
    "iq, _ = q.quant(np.eye(2), calibration_axes=-1)\n",
    "\n",
    "q = make_quantizer(bits=2)\n",
    "jq, _ = q.quant(np.eye(2), calibration_axes=-1)\n",
    "\n",
    "iq.dequant() # @ jq.dequant()"
   ]
  },
  {
   "cell_type": "code",
   "execution_count": 63,
   "metadata": {},
   "outputs": [
    {
     "data": {
      "text/plain": [
       "(Array([[ 0.0453768 , -0.9533617 , -1.8426027 ,  0.33260754],\n",
       "        [ 0.37852615, -0.46583915,  1.0723062 , -0.02239281],\n",
       "        [-0.55145985, -3.028088  ,  0.4540146 ,  0.67275053],\n",
       "        [-1.4088378 ,  2.6997137 ,  0.03098934, -1.3995585 ]],      dtype=float32),\n",
       " Array([[-0.03916679, -0.5091683 , -1.8408391 ,  0.40145963],\n",
       "        [ 0.38187623, -0.41614717,  1.1309412 ,  0.15177132],\n",
       "        [-0.5336476 , -2.6878211 ,  0.23989663,  0.812711  ],\n",
       "        [-1.3316709 ,  2.4234455 , -0.12239623, -1.2827125 ]],      dtype=float32),\n",
       " Array([[ 0.06364604, -0.77354413, -1.3806294 ,  0.15666717],\n",
       "        [ 0.37208453, -0.41614717,  1.1211494 ,  0.15177132],\n",
       "        [-0.43573058, -2.952197  ,  0.7050023 ,  0.5679185 ],\n",
       "        [-1.3806294 ,  2.9424055 ,  0.357397  , -1.2386498 ]],      dtype=float32))"
      ]
     },
     "execution_count": 63,
     "metadata": {},
     "output_type": "execute_result"
    }
   ],
   "source": [
    "# quantize a and b to the relevant bits, then use q_dot - should be same as full precision passed in directly\n",
    "ql = make_quantizer(bits=lhs)\n",
    "qr = make_quantizer(bits=rhs)\n",
    "aq, _ = ql.quant(a, calibration_axes=-1)\n",
    "bq, _ = qr.quant(b, calibration_axes=-1)\n",
    "\n",
    "cqq = qd(aq.dequant(), bq.dequant())\n",
    "cq = qd(a, b)\n",
    "c = a@b\n",
    "c, cq, cqq"
   ]
  },
  {
   "cell_type": "code",
   "execution_count": 51,
   "metadata": {},
   "outputs": [
    {
     "name": "stdout",
     "output_type": "stream",
     "text": [
      "[[ 0.0453768  -0.9533617  -1.8426027   0.33260754]\n",
      " [ 0.37852615 -0.46583915  1.0723062  -0.02239281]\n",
      " [-0.55145985 -3.028088    0.4540146   0.67275053]\n",
      " [-1.4088378   2.6997137   0.03098934 -1.3995585 ]]\n",
      "[[   0.          -6.3659    -101.8544      19.0977   ]\n",
      " [  21.363722   -21.363722    32.04558     -5.3409305]\n",
      " [ -26.154976   -58.848698    32.69372     19.616232 ]\n",
      " [  -1.8139033   12.697323     5.44171     -7.2556133]]\n"
     ]
    }
   ],
   "source": [
    "cq = np.matmul(aq.qvalue, bq.qvalue, preferred_element_type=np.int8) / (aq.scale[0] * bq.scale[0])\n",
    "c = a @ b\n",
    "print(c)\n",
    "print(cq)"
   ]
  },
  {
   "cell_type": "code",
   "execution_count": 40,
   "metadata": {},
   "outputs": [
    {
     "data": {
      "text/plain": [
       "Array([[-0.8417911 ,  0.8417911 ,  0.8417911 ,  0.        ],\n",
       "       [ 0.72478807, -0.72478807, -0.        ,  0.72478807],\n",
       "       [ 0.        ,  1.1971722 , -1.1971722 ,  0.        ],\n",
       "       [-0.        ,  0.        , -0.        , -2.5889838 ]],      dtype=float32)"
      ]
     },
     "execution_count": 40,
     "metadata": {},
     "output_type": "execute_result"
    }
   ],
   "source": [
    "aq.dequant()"
   ]
  },
  {
   "cell_type": "code",
   "execution_count": 41,
   "metadata": {},
   "outputs": [
    {
     "data": {
      "text/plain": [
       "Array([[0.8417911 , 0.8417911 , 0.8417911 ,        nan],\n",
       "       [0.72478807, 0.72478807,        nan, 0.72478807],\n",
       "       [       nan, 1.1971722 , 1.1971722 ,        nan],\n",
       "       [       nan,        nan,        nan, 2.5889838 ]], dtype=float32)"
      ]
     },
     "execution_count": 41,
     "metadata": {},
     "output_type": "execute_result"
    }
   ],
   "source": [
    "aq.dequant() / aq.qvalue"
   ]
  },
  {
   "cell_type": "code",
   "execution_count": 19,
   "metadata": {},
   "outputs": [
    {
     "data": {
      "text/plain": [
       "Array([[ 0.       ,  0.       ],\n",
       "       [-0.9431708,  1.2575611]], dtype=float32)"
      ]
     },
     "execution_count": 19,
     "metadata": {},
     "output_type": "execute_result"
    }
   ],
   "source": [
    "qd = q_dot_maybe(fwd=(lhs, rhs), bwd=8)\n",
    "qd(a, b)"
   ]
  },
  {
   "cell_type": "code",
   "execution_count": null,
   "metadata": {},
   "outputs": [],
   "source": []
  }
 ],
 "metadata": {
  "kernelspec": {
   "display_name": "venv",
   "language": "python",
   "name": "python3"
  },
  "language_info": {
   "codemirror_mode": {
    "name": "ipython",
    "version": 3
   },
   "file_extension": ".py",
   "mimetype": "text/x-python",
   "name": "python",
   "nbconvert_exporter": "python",
   "pygments_lexer": "ipython3",
   "version": "3.10.10"
  }
 },
 "nbformat": 4,
 "nbformat_minor": 2
}
