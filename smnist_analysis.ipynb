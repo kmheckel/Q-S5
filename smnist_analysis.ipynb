{
 "cells": [
  {
   "cell_type": "code",
   "execution_count": 1,
   "metadata": {},
   "outputs": [],
   "source": [
    "import pandas as pd\n",
    "import wandb"
   ]
  },
  {
   "cell_type": "code",
   "execution_count": 2,
   "metadata": {},
   "outputs": [],
   "source": [
    "with open(\"wandb_apikey.txt\") as f:\n",
    "    api_key = f.read().strip()"
   ]
  },
  {
   "cell_type": "code",
   "execution_count": 3,
   "metadata": {},
   "outputs": [
    {
     "name": "stderr",
     "output_type": "stream",
     "text": [
      "Failed to detect the name of this notebook, you can set it manually with the WANDB_NOTEBOOK_NAME environment variable to enable code saving.\n"
     ]
    },
    {
     "name": "stderr",
     "output_type": "stream",
     "text": [
      "\u001b[34m\u001b[1mwandb\u001b[0m: Currently logged in as: \u001b[33mstevenabreu7\u001b[0m. Use \u001b[1m`wandb login --relogin`\u001b[0m to force relogin\n",
      "\u001b[34m\u001b[1mwandb\u001b[0m: \u001b[33mWARNING\u001b[0m If you're specifying your api key in code, ensure this code is not shared publicly.\n",
      "\u001b[34m\u001b[1mwandb\u001b[0m: \u001b[33mWARNING\u001b[0m Consider setting the WANDB_API_KEY environment variable, or running `wandb login` from the command line.\n",
      "\u001b[34m\u001b[1mwandb\u001b[0m: Appending key for api.wandb.ai to your netrc file: /home/sabreu/.netrc\n"
     ]
    }
   ],
   "source": [
    "assert wandb.login(key=api_key)\n",
    "api = wandb.Api()"
   ]
  },
  {
   "cell_type": "code",
   "execution_count": 4,
   "metadata": {},
   "outputs": [],
   "source": [
    "project = \"NeuroSSMs\"\n",
    "entity = \"il-ncl\""
   ]
  },
  {
   "cell_type": "code",
   "execution_count": 5,
   "metadata": {},
   "outputs": [],
   "source": [
    "runs = api.runs(f\"{entity}/{project}\")"
   ]
  },
  {
   "cell_type": "code",
   "execution_count": 6,
   "metadata": {},
   "outputs": [
    {
     "name": "stdout",
     "output_type": "stream",
     "text": [
      "SMNIST run with full-nqact was not found.\n",
      "\\begin{tabular}{llll}\n",
      "\\toprule\n",
      " & GeLU \\& BN & qGeLU \\& BN & qGeLU \\& LN \\\\\n",
      "\\midrule\n",
      "Baseline        & n/a                 & \\textbf{99.53\\%}    & \\textbf{99.48\\%}    \\\\\n",
      "W8A8            & \\textbf{99.48\\%}    & \\textbf{99.47\\%}    & \\textbf{99.54\\%}    \\\\\n",
      "W4A8 (SSM: W8)  & \\textbf{99.52\\%}    & \\textbf{99.52\\%}    & \\textbf{99.63\\%}    \\\\\n",
      "W4A8 ($A$: W8)  & 97.32\\%             & \\underline{98.03\\%} & \\textbf{99.26\\%}    \\\\\n",
      "W4A8            & 9.80\\%              & 34.51\\%             & 12.68\\%             \\\\\n",
      "W2A8 (SSM: W8)  & \\textbf{99.64\\%}    & \\textbf{99.45\\%}    & \\textbf{99.56\\%}    \\\\\n",
      "W2A8 ($A$: W8)  & 71.63\\%             & 82.40\\%             & 80.76\\%             \\\\\n",
      "W2A8            & 46.07\\%             & 46.77\\%             & 54.75\\%             \\\\\n",
      "\\bottomrule\n",
      "\\end{tabular}\n",
      "\n"
     ]
    }
   ],
   "source": [
    "# sMNIST runs\n",
    "configs = \"full W8A8 W4A8Wssm8 W4A8Wa8 W4A8 W2A8Wssm8 W2A8Wa8 W2A8\".split(\" \")\n",
    "suffices = [\"-nqact\", \"\", \"-lnrm\"]\n",
    "data = []\n",
    "for config in configs:\n",
    "    d = {}\n",
    "    d[\"config\"] = f'{config.replace(\"Wssm8\", \" (SSM: W8)\").replace(\"Wa8\", \" ($A$: W8)\").replace(\"full\", \"Baseline\"):15}'\n",
    "    for suffix in suffices:\n",
    "        rename = {\"-nqact\": \"GeLU \\\\& BN\", \"\": \"qGeLU \\\\& BN\", \"-lnrm\": \"qGeLU \\\\& LN\"}\n",
    "        runs = api.runs(f\"{entity}/{project}\", filters={\"displayName\": f\"smnist-{config}{suffix}\"})\n",
    "        if len(runs) > 1:\n",
    "            print(f\"SMNIST run with {config}{suffix} has multiple matches!!.\")\n",
    "        if len(runs) == 0:\n",
    "            print(f\"SMNIST run with {config}{suffix} was not found.\")\n",
    "            d[rename[suffix]] = f'{\"n/a\":19}'\n",
    "        else:\n",
    "            run = runs[0]\n",
    "            acc = run.summary[\"Best Test Accuracy\"]\n",
    "            if acc > 0.99:\n",
    "                d[rename[suffix]] = '\\\\textbf{' + f'{acc:.2%}' + '}   '\n",
    "            elif acc > 0.98:\n",
    "                d[rename[suffix]] = '\\\\underline{' + f'{acc:.2%}' + '}'\n",
    "            else:\n",
    "                d[rename[suffix]] = f'{acc:<18.2%}'\n",
    "    data.append(d)\n",
    "df = pd.DataFrame(data)\n",
    "df.index = list(df[\"config\"])\n",
    "df = df.drop(columns=\"config\")\n",
    "print(df.to_latex().replace(\"%\", \"\\\\%\"))"
   ]
  },
  {
   "cell_type": "code",
   "execution_count": null,
   "metadata": {},
   "outputs": [],
   "source": []
  }
 ],
 "metadata": {
  "kernelspec": {
   "display_name": "venv",
   "language": "python",
   "name": "python3"
  },
  "language_info": {
   "codemirror_mode": {
    "name": "ipython",
    "version": 3
   },
   "file_extension": ".py",
   "mimetype": "text/x-python",
   "name": "python",
   "nbconvert_exporter": "python",
   "pygments_lexer": "ipython3",
   "version": "3.10.10"
  }
 },
 "nbformat": 4,
 "nbformat_minor": 2
}
